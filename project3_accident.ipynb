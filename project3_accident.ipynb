{
 "cells": [
  {
   "cell_type": "code",
   "execution_count": 1,
   "metadata": {},
   "outputs": [
    {
     "name": "stdout",
     "output_type": "stream",
     "text": [
      "Requirement already satisfied: ipython-sql in c:\\users\\en\\anaconda3\\lib\\site-packages (0.4.0)\n",
      "Requirement already satisfied: prettytable<1 in c:\\users\\en\\anaconda3\\lib\\site-packages (from ipython-sql) (0.7.2)\n",
      "Requirement already satisfied: six in c:\\users\\en\\anaconda3\\lib\\site-packages (from ipython-sql) (1.15.0)\n",
      "Requirement already satisfied: ipython-genutils>=0.1.0 in c:\\users\\en\\anaconda3\\lib\\site-packages (from ipython-sql) (0.2.0)\n",
      "Requirement already satisfied: sqlparse in c:\\users\\en\\anaconda3\\lib\\site-packages (from ipython-sql) (0.3.1)\n",
      "Requirement already satisfied: ipython>=1.0 in c:\\users\\en\\anaconda3\\lib\\site-packages (from ipython-sql) (7.16.1)\n",
      "Requirement already satisfied: sqlalchemy>=0.6.7 in c:\\users\\en\\anaconda3\\lib\\site-packages (from ipython-sql) (1.3.18)\n",
      "Requirement already satisfied: pygments in c:\\users\\en\\anaconda3\\lib\\site-packages (from ipython>=1.0->ipython-sql) (2.6.1)\n",
      "Requirement already satisfied: prompt-toolkit!=3.0.0,!=3.0.1,<3.1.0,>=2.0.0 in c:\\users\\en\\anaconda3\\lib\\site-packages (from ipython>=1.0->ipython-sql) (3.0.5)\n",
      "Requirement already satisfied: decorator in c:\\users\\en\\anaconda3\\lib\\site-packages (from ipython>=1.0->ipython-sql) (4.4.2)\n",
      "Requirement already satisfied: backcall in c:\\users\\en\\anaconda3\\lib\\site-packages (from ipython>=1.0->ipython-sql) (0.2.0)\n",
      "Requirement already satisfied: colorama; sys_platform == \"win32\" in c:\\users\\en\\anaconda3\\lib\\site-packages (from ipython>=1.0->ipython-sql) (0.4.3)\n",
      "Requirement already satisfied: traitlets>=4.2 in c:\\users\\en\\anaconda3\\lib\\site-packages (from ipython>=1.0->ipython-sql) (4.3.3)\n",
      "Requirement already satisfied: pickleshare in c:\\users\\en\\anaconda3\\lib\\site-packages (from ipython>=1.0->ipython-sql) (0.7.5)\n",
      "Requirement already satisfied: setuptools>=18.5 in c:\\users\\en\\anaconda3\\lib\\site-packages (from ipython>=1.0->ipython-sql) (49.2.0.post20200714)\n",
      "Requirement already satisfied: jedi>=0.10 in c:\\users\\en\\anaconda3\\lib\\site-packages (from ipython>=1.0->ipython-sql) (0.17.1)\n",
      "Requirement already satisfied: wcwidth in c:\\users\\en\\anaconda3\\lib\\site-packages (from prompt-toolkit!=3.0.0,!=3.0.1,<3.1.0,>=2.0.0->ipython>=1.0->ipython-sql) (0.2.5)\n",
      "Requirement already satisfied: parso<0.8.0,>=0.7.0 in c:\\users\\en\\anaconda3\\lib\\site-packages (from jedi>=0.10->ipython>=1.0->ipython-sql) (0.7.0)\n",
      "Requirement already satisfied: psycopg2 in c:\\users\\en\\anaconda3\\lib\\site-packages (2.8.5)\n"
     ]
    }
   ],
   "source": [
    "!pip install ipython-sql\n",
    "!pip install psycopg2\n",
    "import psycopg2 as pg\n",
    "import pandas as pd\n",
    "import pandas.io.sql as pd_sql\n",
    "\n",
    "# We are also going to do some basic viz\n",
    "#import matplotlib.pyplot as plt\n",
    "#%matplotlib inline\n",
    "%load_ext sql"
   ]
  },
  {
   "cell_type": "code",
   "execution_count": 2,
   "metadata": {},
   "outputs": [],
   "source": [
    "import pandas as pd\n",
    "import numpy as np\n",
    "import matplotlib.pyplot as plt\n",
    "import seaborn as sns"
   ]
  },
  {
   "cell_type": "code",
   "execution_count": 2,
   "metadata": {},
   "outputs": [],
   "source": [
    "pd.set_option('display.max_rows', None)\n",
    "pd.set_option('display.max_columns', None)"
   ]
  },
  {
   "cell_type": "code",
   "execution_count": 3,
   "metadata": {},
   "outputs": [],
   "source": [
    "connection_args = {\n",
    "    'host': 'localhost',\n",
    "    'user': 'postgres',\n",
    "    'dbname': 'project3',\n",
    "    'password': '0162352!',\n",
    "    'port': 5432             \n",
    "}\n",
    "\n",
    "connection = pg.connect(**connection_args)"
   ]
  },
  {
   "cell_type": "code",
   "execution_count": 4,
   "metadata": {},
   "outputs": [
    {
     "data": {
      "text/html": [
       "<div>\n",
       "<style scoped>\n",
       "    .dataframe tbody tr th:only-of-type {\n",
       "        vertical-align: middle;\n",
       "    }\n",
       "\n",
       "    .dataframe tbody tr th {\n",
       "        vertical-align: top;\n",
       "    }\n",
       "\n",
       "    .dataframe thead th {\n",
       "        text-align: right;\n",
       "    }\n",
       "</style>\n",
       "<table border=\"1\" class=\"dataframe\">\n",
       "  <thead>\n",
       "    <tr style=\"text-align: right;\">\n",
       "      <th></th>\n",
       "      <th>st_case</th>\n",
       "      <th>latitude</th>\n",
       "      <th>longitud</th>\n",
       "      <th>ve_total</th>\n",
       "      <th>ve_forms</th>\n",
       "      <th>peds</th>\n",
       "      <th>pernotmvit</th>\n",
       "      <th>persons</th>\n",
       "      <th>county</th>\n",
       "      <th>day</th>\n",
       "      <th>...</th>\n",
       "      <th>rel_road</th>\n",
       "      <th>lgt_cond</th>\n",
       "      <th>weather</th>\n",
       "      <th>tow_veh</th>\n",
       "      <th>vtrafway</th>\n",
       "      <th>vnum_lan</th>\n",
       "      <th>vspd_lim</th>\n",
       "      <th>male_num</th>\n",
       "      <th>female_num</th>\n",
       "      <th>drunk_dr</th>\n",
       "    </tr>\n",
       "  </thead>\n",
       "  <tbody>\n",
       "    <tr>\n",
       "      <th>count</th>\n",
       "      <td>32166.000000</td>\n",
       "      <td>32166.000000</td>\n",
       "      <td>32166.000000</td>\n",
       "      <td>32166.000000</td>\n",
       "      <td>32166.000000</td>\n",
       "      <td>32166.000000</td>\n",
       "      <td>32166.000000</td>\n",
       "      <td>32166.000000</td>\n",
       "      <td>32166.000000</td>\n",
       "      <td>32166.000000</td>\n",
       "      <td>...</td>\n",
       "      <td>32166.000000</td>\n",
       "      <td>32166.000000</td>\n",
       "      <td>32166.000000</td>\n",
       "      <td>32130.000000</td>\n",
       "      <td>32130.000000</td>\n",
       "      <td>32130.000000</td>\n",
       "      <td>32130.000000</td>\n",
       "      <td>32130.000000</td>\n",
       "      <td>32130.000000</td>\n",
       "      <td>32166.000000</td>\n",
       "    </tr>\n",
       "    <tr>\n",
       "      <th>mean</th>\n",
       "      <td>276729.623733</td>\n",
       "      <td>37.011498</td>\n",
       "      <td>-85.209389</td>\n",
       "      <td>1.556177</td>\n",
       "      <td>1.520954</td>\n",
       "      <td>0.214854</td>\n",
       "      <td>0.223746</td>\n",
       "      <td>2.290493</td>\n",
       "      <td>91.225051</td>\n",
       "      <td>15.556208</td>\n",
       "      <td>...</td>\n",
       "      <td>2.386619</td>\n",
       "      <td>1.888360</td>\n",
       "      <td>3.808711</td>\n",
       "      <td>0.152537</td>\n",
       "      <td>1.878556</td>\n",
       "      <td>2.610831</td>\n",
       "      <td>51.598195</td>\n",
       "      <td>1.478462</td>\n",
       "      <td>0.392312</td>\n",
       "      <td>0.283187</td>\n",
       "    </tr>\n",
       "    <tr>\n",
       "      <th>std</th>\n",
       "      <td>162486.332746</td>\n",
       "      <td>7.164869</td>\n",
       "      <td>87.153916</td>\n",
       "      <td>0.889722</td>\n",
       "      <td>0.852961</td>\n",
       "      <td>0.480884</td>\n",
       "      <td>0.507696</td>\n",
       "      <td>1.945197</td>\n",
       "      <td>94.670319</td>\n",
       "      <td>8.774020</td>\n",
       "      <td>...</td>\n",
       "      <td>4.525417</td>\n",
       "      <td>1.146641</td>\n",
       "      <td>10.581454</td>\n",
       "      <td>0.734884</td>\n",
       "      <td>1.362884</td>\n",
       "      <td>1.200805</td>\n",
       "      <td>16.767387</td>\n",
       "      <td>1.278314</td>\n",
       "      <td>0.922465</td>\n",
       "      <td>0.467420</td>\n",
       "    </tr>\n",
       "    <tr>\n",
       "      <th>min</th>\n",
       "      <td>10001.000000</td>\n",
       "      <td>19.273050</td>\n",
       "      <td>-166.549556</td>\n",
       "      <td>1.000000</td>\n",
       "      <td>1.000000</td>\n",
       "      <td>0.000000</td>\n",
       "      <td>0.000000</td>\n",
       "      <td>0.000000</td>\n",
       "      <td>1.000000</td>\n",
       "      <td>1.000000</td>\n",
       "      <td>...</td>\n",
       "      <td>1.000000</td>\n",
       "      <td>1.000000</td>\n",
       "      <td>1.000000</td>\n",
       "      <td>0.000000</td>\n",
       "      <td>0.000000</td>\n",
       "      <td>0.000000</td>\n",
       "      <td>0.000000</td>\n",
       "      <td>0.000000</td>\n",
       "      <td>0.000000</td>\n",
       "      <td>0.000000</td>\n",
       "    </tr>\n",
       "    <tr>\n",
       "      <th>25%</th>\n",
       "      <td>122183.250000</td>\n",
       "      <td>33.135731</td>\n",
       "      <td>-97.830091</td>\n",
       "      <td>1.000000</td>\n",
       "      <td>1.000000</td>\n",
       "      <td>0.000000</td>\n",
       "      <td>0.000000</td>\n",
       "      <td>1.000000</td>\n",
       "      <td>31.000000</td>\n",
       "      <td>8.000000</td>\n",
       "      <td>...</td>\n",
       "      <td>1.000000</td>\n",
       "      <td>1.000000</td>\n",
       "      <td>1.000000</td>\n",
       "      <td>0.000000</td>\n",
       "      <td>1.000000</td>\n",
       "      <td>2.000000</td>\n",
       "      <td>40.000000</td>\n",
       "      <td>1.000000</td>\n",
       "      <td>0.000000</td>\n",
       "      <td>0.000000</td>\n",
       "    </tr>\n",
       "    <tr>\n",
       "      <th>50%</th>\n",
       "      <td>280002.500000</td>\n",
       "      <td>36.427731</td>\n",
       "      <td>-87.641267</td>\n",
       "      <td>1.000000</td>\n",
       "      <td>1.000000</td>\n",
       "      <td>0.000000</td>\n",
       "      <td>0.000000</td>\n",
       "      <td>2.000000</td>\n",
       "      <td>71.000000</td>\n",
       "      <td>15.000000</td>\n",
       "      <td>...</td>\n",
       "      <td>1.000000</td>\n",
       "      <td>2.000000</td>\n",
       "      <td>1.000000</td>\n",
       "      <td>0.000000</td>\n",
       "      <td>1.000000</td>\n",
       "      <td>2.000000</td>\n",
       "      <td>55.000000</td>\n",
       "      <td>1.000000</td>\n",
       "      <td>0.000000</td>\n",
       "      <td>0.000000</td>\n",
       "    </tr>\n",
       "    <tr>\n",
       "      <th>75%</th>\n",
       "      <td>420565.750000</td>\n",
       "      <td>40.640503</td>\n",
       "      <td>-81.308249</td>\n",
       "      <td>2.000000</td>\n",
       "      <td>2.000000</td>\n",
       "      <td>0.000000</td>\n",
       "      <td>0.000000</td>\n",
       "      <td>3.000000</td>\n",
       "      <td>115.000000</td>\n",
       "      <td>23.000000</td>\n",
       "      <td>...</td>\n",
       "      <td>4.000000</td>\n",
       "      <td>2.000000</td>\n",
       "      <td>2.000000</td>\n",
       "      <td>0.000000</td>\n",
       "      <td>2.000000</td>\n",
       "      <td>3.000000</td>\n",
       "      <td>60.000000</td>\n",
       "      <td>2.000000</td>\n",
       "      <td>0.000000</td>\n",
       "      <td>1.000000</td>\n",
       "    </tr>\n",
       "    <tr>\n",
       "      <th>max</th>\n",
       "      <td>560130.000000</td>\n",
       "      <td>99.999900</td>\n",
       "      <td>999.999900</td>\n",
       "      <td>58.000000</td>\n",
       "      <td>58.000000</td>\n",
       "      <td>16.000000</td>\n",
       "      <td>16.000000</td>\n",
       "      <td>93.000000</td>\n",
       "      <td>999.000000</td>\n",
       "      <td>31.000000</td>\n",
       "      <td>...</td>\n",
       "      <td>99.000000</td>\n",
       "      <td>9.000000</td>\n",
       "      <td>99.000000</td>\n",
       "      <td>26.000000</td>\n",
       "      <td>9.000000</td>\n",
       "      <td>9.000000</td>\n",
       "      <td>99.000000</td>\n",
       "      <td>57.000000</td>\n",
       "      <td>54.000000</td>\n",
       "      <td>3.000000</td>\n",
       "    </tr>\n",
       "  </tbody>\n",
       "</table>\n",
       "<p>8 rows × 30 columns</p>\n",
       "</div>"
      ],
      "text/plain": [
       "             st_case      latitude      longitud      ve_total      ve_forms  \\\n",
       "count   32166.000000  32166.000000  32166.000000  32166.000000  32166.000000   \n",
       "mean   276729.623733     37.011498    -85.209389      1.556177      1.520954   \n",
       "std    162486.332746      7.164869     87.153916      0.889722      0.852961   \n",
       "min     10001.000000     19.273050   -166.549556      1.000000      1.000000   \n",
       "25%    122183.250000     33.135731    -97.830091      1.000000      1.000000   \n",
       "50%    280002.500000     36.427731    -87.641267      1.000000      1.000000   \n",
       "75%    420565.750000     40.640503    -81.308249      2.000000      2.000000   \n",
       "max    560130.000000     99.999900    999.999900     58.000000     58.000000   \n",
       "\n",
       "               peds    pernotmvit       persons        county           day  \\\n",
       "count  32166.000000  32166.000000  32166.000000  32166.000000  32166.000000   \n",
       "mean       0.214854      0.223746      2.290493     91.225051     15.556208   \n",
       "std        0.480884      0.507696      1.945197     94.670319      8.774020   \n",
       "min        0.000000      0.000000      0.000000      1.000000      1.000000   \n",
       "25%        0.000000      0.000000      1.000000     31.000000      8.000000   \n",
       "50%        0.000000      0.000000      2.000000     71.000000     15.000000   \n",
       "75%        0.000000      0.000000      3.000000    115.000000     23.000000   \n",
       "max       16.000000     16.000000     93.000000    999.000000     31.000000   \n",
       "\n",
       "       ...      rel_road      lgt_cond       weather       tow_veh  \\\n",
       "count  ...  32166.000000  32166.000000  32166.000000  32130.000000   \n",
       "mean   ...      2.386619      1.888360      3.808711      0.152537   \n",
       "std    ...      4.525417      1.146641     10.581454      0.734884   \n",
       "min    ...      1.000000      1.000000      1.000000      0.000000   \n",
       "25%    ...      1.000000      1.000000      1.000000      0.000000   \n",
       "50%    ...      1.000000      2.000000      1.000000      0.000000   \n",
       "75%    ...      4.000000      2.000000      2.000000      0.000000   \n",
       "max    ...     99.000000      9.000000     99.000000     26.000000   \n",
       "\n",
       "           vtrafway      vnum_lan      vspd_lim      male_num    female_num  \\\n",
       "count  32130.000000  32130.000000  32130.000000  32130.000000  32130.000000   \n",
       "mean       1.878556      2.610831     51.598195      1.478462      0.392312   \n",
       "std        1.362884      1.200805     16.767387      1.278314      0.922465   \n",
       "min        0.000000      0.000000      0.000000      0.000000      0.000000   \n",
       "25%        1.000000      2.000000     40.000000      1.000000      0.000000   \n",
       "50%        1.000000      2.000000     55.000000      1.000000      0.000000   \n",
       "75%        2.000000      3.000000     60.000000      2.000000      0.000000   \n",
       "max        9.000000      9.000000     99.000000     57.000000     54.000000   \n",
       "\n",
       "           drunk_dr  \n",
       "count  32166.000000  \n",
       "mean       0.283187  \n",
       "std        0.467420  \n",
       "min        0.000000  \n",
       "25%        0.000000  \n",
       "50%        0.000000  \n",
       "75%        1.000000  \n",
       "max        3.000000  \n",
       "\n",
       "[8 rows x 30 columns]"
      ]
     },
     "execution_count": 4,
     "metadata": {},
     "output_type": "execute_result"
    }
   ],
   "source": [
    "query_sub_accident = \"SELECT * FROM sub_accident;\"\n",
    "\n",
    "df_sub_accident = pd_sql.read_sql(query_sub_accident, connection)\n",
    "df_sub_accident.describe()"
   ]
  },
  {
   "cell_type": "code",
   "execution_count": 5,
   "metadata": {},
   "outputs": [
    {
     "name": "stdout",
     "output_type": "stream",
     "text": [
      "<class 'pandas.core.frame.DataFrame'>\n",
      "RangeIndex: 32166 entries, 0 to 32165\n",
      "Data columns (total 30 columns):\n",
      " #   Column      Non-Null Count  Dtype  \n",
      "---  ------      --------------  -----  \n",
      " 0   st_case     32166 non-null  float64\n",
      " 1   latitude    32166 non-null  float64\n",
      " 2   longitud    32166 non-null  float64\n",
      " 3   ve_total    32166 non-null  float64\n",
      " 4   ve_forms    32166 non-null  float64\n",
      " 5   peds        32166 non-null  float64\n",
      " 6   pernotmvit  32166 non-null  float64\n",
      " 7   persons     32166 non-null  float64\n",
      " 8   county      32166 non-null  float64\n",
      " 9   day         32166 non-null  float64\n",
      " 10  month       32166 non-null  float64\n",
      " 11  day_week    32166 non-null  float64\n",
      " 12  hour        32166 non-null  float64\n",
      " 13  nhs         32166 non-null  float64\n",
      " 14  func_sys    32166 non-null  float64\n",
      " 15  rd_owner    32166 non-null  float64\n",
      " 16  route       32166 non-null  float64\n",
      " 17  harm_ev     32166 non-null  float64\n",
      " 18  man_coll    32166 non-null  float64\n",
      " 19  typ_int     32166 non-null  float64\n",
      " 20  rel_road    32166 non-null  float64\n",
      " 21  lgt_cond    32166 non-null  float64\n",
      " 22  weather     32166 non-null  float64\n",
      " 23  tow_veh     32130 non-null  float64\n",
      " 24  vtrafway    32130 non-null  float64\n",
      " 25  vnum_lan    32130 non-null  float64\n",
      " 26  vspd_lim    32130 non-null  float64\n",
      " 27  male_num    32130 non-null  float64\n",
      " 28  female_num  32130 non-null  float64\n",
      " 29  drunk_dr    32166 non-null  float64\n",
      "dtypes: float64(30)\n",
      "memory usage: 7.4 MB\n"
     ]
    }
   ],
   "source": [
    "df_sub_accident.info()"
   ]
  },
  {
   "cell_type": "code",
   "execution_count": 5,
   "metadata": {},
   "outputs": [],
   "source": [
    "maper = {2: 1,\n",
    "         3: 1} \n",
    "df_sub_accident['drunk_dr'] = df_sub_accident['drunk_dr'].map(maper).fillna(df_sub_accident['drunk_dr'])"
   ]
  },
  {
   "cell_type": "code",
   "execution_count": 6,
   "metadata": {
    "scrolled": true
   },
   "outputs": [],
   "source": [
    "msk1 = (df_sub_accident.drunk_dr<2)\n",
    "df_sub_accident=df_sub_accident[msk1]\n",
    "\n",
    "msk2 = (df_sub_accident.county<996)\n",
    "df_sub_accident=df_sub_accident[msk2]\n",
    "\n",
    "msk3 = (df_sub_accident.hour<24)\n",
    "df_sub_accident=df_sub_accident[msk3]\n",
    "\n",
    "msk4 = (df_sub_accident.nhs<2)\n",
    "df_sub_accident=df_sub_accident[msk4]\n",
    "\n",
    "msk5 = (df_sub_accident.func_sys<97)\n",
    "df_sub_accident=df_sub_accident[msk5]\n",
    "\n",
    "msk6 = (df_sub_accident.rd_owner<97)\n",
    "df_sub_accident=df_sub_accident[msk6]\n",
    "\n",
    "msk7 = (df_sub_accident.route<9)\n",
    "df_sub_accident=df_sub_accident[msk7]\n",
    "\n",
    "msk8 = (df_sub_accident.harm_ev<98)\n",
    "df_sub_accident=df_sub_accident[msk8]\n",
    "\n",
    "msk9 = (df_sub_accident.man_coll<98)\n",
    "df_sub_accident=df_sub_accident[msk9]\n",
    "\n",
    "msk10 = (df_sub_accident.typ_int<98)\n",
    "df_sub_accident=df_sub_accident[msk10]\n",
    "\n",
    "msk11 = (df_sub_accident.rel_road<98)\n",
    "df_sub_accident=df_sub_accident[msk11]\n",
    "\n",
    "msk12 = (df_sub_accident.lgt_cond<8)\n",
    "df_sub_accident=df_sub_accident[msk12]\n",
    "\n",
    "msk13 = (df_sub_accident.weather<97)\n",
    "df_sub_accident=df_sub_accident[msk13]\n",
    "\n",
    "msk14 = (df_sub_accident.tow_veh<9)\n",
    "df_sub_accident=df_sub_accident[msk14]\n",
    "\n",
    "msk15 = (df_sub_accident.vtrafway<8)\n",
    "df_sub_accident=df_sub_accident[msk15]\n",
    "\n",
    "msk16 = (df_sub_accident.vnum_lan<8)\n",
    "df_sub_accident=df_sub_accident[msk16]\n",
    "\n",
    "msk17 = (df_sub_accident.vspd_lim<98)\n",
    "df_sub_accident=df_sub_accident[msk17]"
   ]
  },
  {
   "cell_type": "code",
   "execution_count": 7,
   "metadata": {},
   "outputs": [
    {
     "name": "stdout",
     "output_type": "stream",
     "text": [
      "<class 'pandas.core.frame.DataFrame'>\n",
      "Int64Index: 21414 entries, 0 to 32165\n",
      "Data columns (total 30 columns):\n",
      " #   Column      Non-Null Count  Dtype  \n",
      "---  ------      --------------  -----  \n",
      " 0   st_case     21414 non-null  float64\n",
      " 1   latitude    21414 non-null  float64\n",
      " 2   longitud    21414 non-null  float64\n",
      " 3   ve_total    21414 non-null  float64\n",
      " 4   ve_forms    21414 non-null  float64\n",
      " 5   peds        21414 non-null  float64\n",
      " 6   pernotmvit  21414 non-null  float64\n",
      " 7   persons     21414 non-null  float64\n",
      " 8   county      21414 non-null  float64\n",
      " 9   day         21414 non-null  float64\n",
      " 10  month       21414 non-null  float64\n",
      " 11  day_week    21414 non-null  float64\n",
      " 12  hour        21414 non-null  float64\n",
      " 13  nhs         21414 non-null  float64\n",
      " 14  func_sys    21414 non-null  float64\n",
      " 15  rd_owner    21414 non-null  float64\n",
      " 16  route       21414 non-null  float64\n",
      " 17  harm_ev     21414 non-null  float64\n",
      " 18  man_coll    21414 non-null  float64\n",
      " 19  typ_int     21414 non-null  float64\n",
      " 20  rel_road    21414 non-null  float64\n",
      " 21  lgt_cond    21414 non-null  float64\n",
      " 22  weather     21414 non-null  float64\n",
      " 23  tow_veh     21414 non-null  float64\n",
      " 24  vtrafway    21414 non-null  float64\n",
      " 25  vnum_lan    21414 non-null  float64\n",
      " 26  vspd_lim    21414 non-null  float64\n",
      " 27  male_num    21414 non-null  float64\n",
      " 28  female_num  21414 non-null  float64\n",
      " 29  drunk_dr    21414 non-null  float64\n",
      "dtypes: float64(30)\n",
      "memory usage: 5.1 MB\n"
     ]
    }
   ],
   "source": [
    "df_sub_accident.info()"
   ]
  },
  {
   "cell_type": "code",
   "execution_count": 10,
   "metadata": {},
   "outputs": [
    {
     "data": {
      "text/plain": [
       "st_case       0\n",
       "latitude      0\n",
       "longitud      0\n",
       "ve_total      0\n",
       "ve_forms      0\n",
       "peds          0\n",
       "pernotmvit    0\n",
       "persons       0\n",
       "county        0\n",
       "day           0\n",
       "month         0\n",
       "day_week      0\n",
       "hour          0\n",
       "nhs           0\n",
       "func_sys      0\n",
       "rd_owner      0\n",
       "route         0\n",
       "harm_ev       0\n",
       "man_coll      0\n",
       "typ_int       0\n",
       "rel_road      0\n",
       "lgt_cond      0\n",
       "weather       0\n",
       "tow_veh       0\n",
       "vtrafway      0\n",
       "vnum_lan      0\n",
       "vspd_lim      0\n",
       "male_num      0\n",
       "female_num    0\n",
       "drunk_dr      0\n",
       "dtype: int64"
      ]
     },
     "execution_count": 10,
     "metadata": {},
     "output_type": "execute_result"
    }
   ],
   "source": [
    "df_sub_accident.isna().sum()"
   ]
  },
  {
   "cell_type": "code",
   "execution_count": 8,
   "metadata": {},
   "outputs": [
    {
     "name": "stdout",
     "output_type": "stream",
     "text": [
      "Requirement already satisfied: xgboost in c:\\users\\en\\anaconda3\\lib\\site-packages (1.2.0)\n",
      "Requirement already satisfied: scipy in c:\\users\\en\\anaconda3\\lib\\site-packages (from xgboost) (1.5.0)\n",
      "Requirement already satisfied: numpy in c:\\users\\en\\anaconda3\\lib\\site-packages (from xgboost) (1.18.5)\n"
     ]
    }
   ],
   "source": [
    "import statistics\n",
    "from sklearn import metrics, datasets, preprocessing, model_selection, svm, naive_bayes, neighbors, ensemble\n",
    "from sklearn.model_selection import train_test_split, cross_val_score\n",
    "from sklearn.linear_model import LogisticRegression\n",
    "from sklearn.metrics import confusion_matrix, precision_score, recall_score, precision_recall_curve,f1_score, roc_auc_score, roc_curve, plot_roc_curve\n",
    "from sklearn.ensemble import BaggingClassifier, RandomForestClassifier, ExtraTreesClassifier, AdaBoostClassifier, GradientBoostingClassifier, VotingClassifier\n",
    "from sklearn.tree import DecisionTreeClassifier\n",
    "!pip install xgboost\n",
    "from xgboost import XGBClassifier\n",
    "import xgboost as xgb"
   ]
  },
  {
   "cell_type": "code",
   "execution_count": 9,
   "metadata": {},
   "outputs": [
    {
     "data": {
      "text/html": [
       "<div>\n",
       "<style scoped>\n",
       "    .dataframe tbody tr th:only-of-type {\n",
       "        vertical-align: middle;\n",
       "    }\n",
       "\n",
       "    .dataframe tbody tr th {\n",
       "        vertical-align: top;\n",
       "    }\n",
       "\n",
       "    .dataframe thead th {\n",
       "        text-align: right;\n",
       "    }\n",
       "</style>\n",
       "<table border=\"1\" class=\"dataframe\">\n",
       "  <thead>\n",
       "    <tr style=\"text-align: right;\">\n",
       "      <th></th>\n",
       "      <th>st_case</th>\n",
       "      <th>latitude</th>\n",
       "      <th>longitud</th>\n",
       "      <th>ve_total</th>\n",
       "      <th>ve_forms</th>\n",
       "      <th>peds</th>\n",
       "      <th>pernotmvit</th>\n",
       "      <th>persons</th>\n",
       "      <th>county</th>\n",
       "      <th>day</th>\n",
       "      <th>...</th>\n",
       "      <th>rel_road</th>\n",
       "      <th>lgt_cond</th>\n",
       "      <th>weather</th>\n",
       "      <th>tow_veh</th>\n",
       "      <th>vtrafway</th>\n",
       "      <th>vnum_lan</th>\n",
       "      <th>vspd_lim</th>\n",
       "      <th>male_num</th>\n",
       "      <th>female_num</th>\n",
       "      <th>drunk_dr</th>\n",
       "    </tr>\n",
       "  </thead>\n",
       "  <tbody>\n",
       "    <tr>\n",
       "      <th>0</th>\n",
       "      <td>10001.0</td>\n",
       "      <td>33.878653</td>\n",
       "      <td>-87.325328</td>\n",
       "      <td>1.0</td>\n",
       "      <td>1.0</td>\n",
       "      <td>0.0</td>\n",
       "      <td>0.0</td>\n",
       "      <td>1.0</td>\n",
       "      <td>75</td>\n",
       "      <td>0</td>\n",
       "      <td>...</td>\n",
       "      <td>3</td>\n",
       "      <td>1</td>\n",
       "      <td>0</td>\n",
       "      <td>0</td>\n",
       "      <td>1</td>\n",
       "      <td>2</td>\n",
       "      <td>11</td>\n",
       "      <td>1.0</td>\n",
       "      <td>0.0</td>\n",
       "      <td>1.0</td>\n",
       "    </tr>\n",
       "    <tr>\n",
       "      <th>1</th>\n",
       "      <td>10002.0</td>\n",
       "      <td>34.910442</td>\n",
       "      <td>-86.908708</td>\n",
       "      <td>1.0</td>\n",
       "      <td>1.0</td>\n",
       "      <td>0.0</td>\n",
       "      <td>0.0</td>\n",
       "      <td>1.0</td>\n",
       "      <td>50</td>\n",
       "      <td>0</td>\n",
       "      <td>...</td>\n",
       "      <td>2</td>\n",
       "      <td>1</td>\n",
       "      <td>8</td>\n",
       "      <td>0</td>\n",
       "      <td>3</td>\n",
       "      <td>2</td>\n",
       "      <td>14</td>\n",
       "      <td>1.0</td>\n",
       "      <td>0.0</td>\n",
       "      <td>0.0</td>\n",
       "    </tr>\n",
       "    <tr>\n",
       "      <th>2</th>\n",
       "      <td>10003.0</td>\n",
       "      <td>32.142006</td>\n",
       "      <td>-85.758456</td>\n",
       "      <td>1.0</td>\n",
       "      <td>1.0</td>\n",
       "      <td>0.0</td>\n",
       "      <td>0.0</td>\n",
       "      <td>2.0</td>\n",
       "      <td>6</td>\n",
       "      <td>0</td>\n",
       "      <td>...</td>\n",
       "      <td>3</td>\n",
       "      <td>1</td>\n",
       "      <td>0</td>\n",
       "      <td>0</td>\n",
       "      <td>1</td>\n",
       "      <td>2</td>\n",
       "      <td>11</td>\n",
       "      <td>1.0</td>\n",
       "      <td>1.0</td>\n",
       "      <td>1.0</td>\n",
       "    </tr>\n",
       "    <tr>\n",
       "      <th>3</th>\n",
       "      <td>10004.0</td>\n",
       "      <td>31.439814</td>\n",
       "      <td>-85.510300</td>\n",
       "      <td>1.0</td>\n",
       "      <td>1.0</td>\n",
       "      <td>0.0</td>\n",
       "      <td>0.0</td>\n",
       "      <td>1.0</td>\n",
       "      <td>28</td>\n",
       "      <td>3</td>\n",
       "      <td>...</td>\n",
       "      <td>3</td>\n",
       "      <td>1</td>\n",
       "      <td>8</td>\n",
       "      <td>0</td>\n",
       "      <td>1</td>\n",
       "      <td>2</td>\n",
       "      <td>11</td>\n",
       "      <td>1.0</td>\n",
       "      <td>0.0</td>\n",
       "      <td>1.0</td>\n",
       "    </tr>\n",
       "    <tr>\n",
       "      <th>4</th>\n",
       "      <td>10005.0</td>\n",
       "      <td>31.319331</td>\n",
       "      <td>-85.515100</td>\n",
       "      <td>2.0</td>\n",
       "      <td>2.0</td>\n",
       "      <td>0.0</td>\n",
       "      <td>0.0</td>\n",
       "      <td>2.0</td>\n",
       "      <td>28</td>\n",
       "      <td>6</td>\n",
       "      <td>...</td>\n",
       "      <td>0</td>\n",
       "      <td>0</td>\n",
       "      <td>0</td>\n",
       "      <td>0</td>\n",
       "      <td>2</td>\n",
       "      <td>2</td>\n",
       "      <td>13</td>\n",
       "      <td>2.0</td>\n",
       "      <td>0.0</td>\n",
       "      <td>0.0</td>\n",
       "    </tr>\n",
       "  </tbody>\n",
       "</table>\n",
       "<p>5 rows × 30 columns</p>\n",
       "</div>"
      ],
      "text/plain": [
       "   st_case   latitude   longitud  ve_total  ve_forms  peds  pernotmvit  \\\n",
       "0  10001.0  33.878653 -87.325328       1.0       1.0   0.0         0.0   \n",
       "1  10002.0  34.910442 -86.908708       1.0       1.0   0.0         0.0   \n",
       "2  10003.0  32.142006 -85.758456       1.0       1.0   0.0         0.0   \n",
       "3  10004.0  31.439814 -85.510300       1.0       1.0   0.0         0.0   \n",
       "4  10005.0  31.319331 -85.515100       2.0       2.0   0.0         0.0   \n",
       "\n",
       "   persons  county  day  ...  rel_road  lgt_cond  weather  tow_veh  vtrafway  \\\n",
       "0      1.0      75    0  ...         3         1        0        0         1   \n",
       "1      1.0      50    0  ...         2         1        8        0         3   \n",
       "2      2.0       6    0  ...         3         1        0        0         1   \n",
       "3      1.0      28    3  ...         3         1        8        0         1   \n",
       "4      2.0      28    6  ...         0         0        0        0         2   \n",
       "\n",
       "   vnum_lan  vspd_lim  male_num  female_num  drunk_dr  \n",
       "0         2        11       1.0         0.0       1.0  \n",
       "1         2        14       1.0         0.0       0.0  \n",
       "2         2        11       1.0         1.0       1.0  \n",
       "3         2        11       1.0         0.0       1.0  \n",
       "4         2        13       2.0         0.0       0.0  \n",
       "\n",
       "[5 rows x 30 columns]"
      ]
     },
     "execution_count": 9,
     "metadata": {},
     "output_type": "execute_result"
    }
   ],
   "source": [
    "label_encoder = preprocessing.LabelEncoder() #label encoding on class_label before logistic regression\n",
    "df_sub_accident['county']= label_encoder.fit_transform(df_sub_accident['county']) \n",
    "df_sub_accident['county'].unique()\n",
    "df_sub_accident['day']= label_encoder.fit_transform(df_sub_accident['day']) \n",
    "df_sub_accident['day'].unique()\n",
    "df_sub_accident['month']= label_encoder.fit_transform(df_sub_accident['month']) \n",
    "df_sub_accident['month'].unique()\n",
    "df_sub_accident['day_week']= label_encoder.fit_transform(df_sub_accident['day_week']) \n",
    "df_sub_accident['day_week'].unique()\n",
    "df_sub_accident['hour']= label_encoder.fit_transform(df_sub_accident['hour']) \n",
    "df_sub_accident['hour'].unique()\n",
    "df_sub_accident['nhs']= label_encoder.fit_transform(df_sub_accident['nhs']) \n",
    "df_sub_accident['nhs'].unique()\n",
    "df_sub_accident['func_sys']= label_encoder.fit_transform(df_sub_accident['func_sys']) \n",
    "df_sub_accident['func_sys'].unique()\n",
    "df_sub_accident['rd_owner']= label_encoder.fit_transform(df_sub_accident['rd_owner']) \n",
    "df_sub_accident['rd_owner'].unique()\n",
    "df_sub_accident['route']= label_encoder.fit_transform(df_sub_accident['route']) \n",
    "df_sub_accident['route'].unique()\n",
    "df_sub_accident['harm_ev']= label_encoder.fit_transform(df_sub_accident['harm_ev']) \n",
    "df_sub_accident['harm_ev'].unique()\n",
    "df_sub_accident['man_coll']= label_encoder.fit_transform(df_sub_accident['man_coll']) \n",
    "df_sub_accident['man_coll'].unique()\n",
    "df_sub_accident['typ_int']= label_encoder.fit_transform(df_sub_accident['typ_int']) \n",
    "df_sub_accident['typ_int'].unique()\n",
    "df_sub_accident['rel_road']= label_encoder.fit_transform(df_sub_accident['rel_road']) \n",
    "df_sub_accident['rel_road'].unique()\n",
    "df_sub_accident['lgt_cond']= label_encoder.fit_transform(df_sub_accident['lgt_cond']) \n",
    "df_sub_accident['lgt_cond'].unique()\n",
    "df_sub_accident['weather']= label_encoder.fit_transform(df_sub_accident['weather']) \n",
    "df_sub_accident['weather'].unique()\n",
    "df_sub_accident['tow_veh']= label_encoder.fit_transform(df_sub_accident['tow_veh']) \n",
    "df_sub_accident['tow_veh'].unique()\n",
    "df_sub_accident['vtrafway']= label_encoder.fit_transform(df_sub_accident['vtrafway']) \n",
    "df_sub_accident['vtrafway'].unique()\n",
    "df_sub_accident['vnum_lan']= label_encoder.fit_transform(df_sub_accident['vnum_lan']) \n",
    "df_sub_accident['vnum_lan'].unique()\n",
    "df_sub_accident['vspd_lim']= label_encoder.fit_transform(df_sub_accident['vspd_lim']) \n",
    "df_sub_accident['vspd_lim'].unique()\n",
    "df_sub_accident.head()"
   ]
  },
  {
   "cell_type": "code",
   "execution_count": 10,
   "metadata": {},
   "outputs": [],
   "source": [
    "X = df_sub_accident.loc[:,['ve_total', 've_forms', 'peds', 'pernotmvit', 'persons', 'county','day', \n",
    "                           'month','day_week', 'hour', 'nhs', 'func_sys', 'rd_owner', 'route', \n",
    "                           'harm_ev','man_coll', 'typ_int', 'rel_road', 'lgt_cond','weather', 'tow_veh', 'vtrafway', 'vnum_lan', 'vspd_lim', 'male_num', 'female_num']]\n",
    "y = df_sub_accident['drunk_dr']"
   ]
  },
  {
   "cell_type": "code",
   "execution_count": 11,
   "metadata": {},
   "outputs": [],
   "source": [
    "X_train, X_test, y_train, y_test = train_test_split(X, y, train_size=0.7, random_state=42)"
   ]
  },
  {
   "cell_type": "code",
   "execution_count": 12,
   "metadata": {},
   "outputs": [
    {
     "name": "stdout",
     "output_type": "stream",
     "text": [
      "Train accuracy: 0.7426779638401494\n",
      "Test accuracy: 0.739455252918288\n",
      "Precision:0.5701,   Recall:0.2358, F1:0.3336\n"
     ]
    }
   ],
   "source": [
    "#Logistic regression classifier\n",
    "LR = LogisticRegression(solver= 'liblinear', fit_intercept = True)\n",
    "results_LR = LR.fit(X_train, y_train)\n",
    "y_pred = LR.predict(X_test)\n",
    "print('Train accuracy:', LR.score(X_train, y_train))\n",
    "print('Test accuracy:', LR.score(X_test, y_test))\n",
    "print('Precision:{:6.4f},   Recall:{:6.4f}, F1:{:6.4f}' .format(precision_score(y_test, y_pred), \n",
    "                                                                recall_score(y_test, y_pred), f1_score(y_test, y_pred)))"
   ]
  },
  {
   "cell_type": "code",
   "execution_count": 31,
   "metadata": {},
   "outputs": [
    {
     "ename": "ValueError",
     "evalue": "'rbc' is not in list",
     "output_type": "error",
     "traceback": [
      "\u001b[1;31m---------------------------------------------------------------------------\u001b[0m",
      "\u001b[1;31mValueError\u001b[0m                                Traceback (most recent call last)",
      "\u001b[1;32m<ipython-input-31-fb52e3e68b8c>\u001b[0m in \u001b[0;36m<module>\u001b[1;34m\u001b[0m\n\u001b[0;32m      1\u001b[0m \u001b[0mSVM\u001b[0m \u001b[1;33m=\u001b[0m \u001b[0msvm\u001b[0m\u001b[1;33m.\u001b[0m\u001b[0mSVC\u001b[0m\u001b[1;33m(\u001b[0m\u001b[0mkernel\u001b[0m\u001b[1;33m=\u001b[0m\u001b[1;34m\"rbc\"\u001b[0m\u001b[1;33m)\u001b[0m\u001b[1;33m\u001b[0m\u001b[1;33m\u001b[0m\u001b[0m\n\u001b[1;32m----> 2\u001b[1;33m \u001b[0mresults_SVM\u001b[0m \u001b[1;33m=\u001b[0m \u001b[0mSVM\u001b[0m\u001b[1;33m.\u001b[0m\u001b[0mfit\u001b[0m\u001b[1;33m(\u001b[0m\u001b[0mX_train\u001b[0m\u001b[1;33m,\u001b[0m \u001b[0my_train\u001b[0m\u001b[1;33m)\u001b[0m\u001b[1;33m\u001b[0m\u001b[1;33m\u001b[0m\u001b[0m\n\u001b[0m\u001b[0;32m      3\u001b[0m \u001b[0my_pred_SVM\u001b[0m \u001b[1;33m=\u001b[0m \u001b[0mSVM\u001b[0m\u001b[1;33m.\u001b[0m\u001b[0mpredict\u001b[0m\u001b[1;33m(\u001b[0m\u001b[0mX_test\u001b[0m\u001b[1;33m)\u001b[0m\u001b[1;33m\u001b[0m\u001b[1;33m\u001b[0m\u001b[0m\n\u001b[0;32m      4\u001b[0m \u001b[0mprint\u001b[0m\u001b[1;33m(\u001b[0m\u001b[1;34m'Train accuracy:'\u001b[0m\u001b[1;33m,\u001b[0m \u001b[0mSVM\u001b[0m\u001b[1;33m.\u001b[0m\u001b[0mscore\u001b[0m\u001b[1;33m(\u001b[0m\u001b[0mX_train\u001b[0m\u001b[1;33m,\u001b[0m \u001b[0my_train\u001b[0m\u001b[1;33m)\u001b[0m\u001b[1;33m)\u001b[0m\u001b[1;33m\u001b[0m\u001b[1;33m\u001b[0m\u001b[0m\n\u001b[0;32m      5\u001b[0m \u001b[0mprint\u001b[0m\u001b[1;33m(\u001b[0m\u001b[1;34m'Test accuracy:'\u001b[0m\u001b[1;33m,\u001b[0m \u001b[0mSVM\u001b[0m\u001b[1;33m.\u001b[0m\u001b[0mscore\u001b[0m\u001b[1;33m(\u001b[0m\u001b[0mX_test\u001b[0m\u001b[1;33m,\u001b[0m \u001b[0my_test\u001b[0m\u001b[1;33m)\u001b[0m\u001b[1;33m)\u001b[0m\u001b[1;33m\u001b[0m\u001b[1;33m\u001b[0m\u001b[0m\n",
      "\u001b[1;32m~\\anaconda3\\lib\\site-packages\\sklearn\\svm\\_base.py\u001b[0m in \u001b[0;36mfit\u001b[1;34m(self, X, y, sample_weight)\u001b[0m\n\u001b[0;32m    215\u001b[0m \u001b[1;33m\u001b[0m\u001b[0m\n\u001b[0;32m    216\u001b[0m         \u001b[0mseed\u001b[0m \u001b[1;33m=\u001b[0m \u001b[0mrnd\u001b[0m\u001b[1;33m.\u001b[0m\u001b[0mrandint\u001b[0m\u001b[1;33m(\u001b[0m\u001b[0mnp\u001b[0m\u001b[1;33m.\u001b[0m\u001b[0miinfo\u001b[0m\u001b[1;33m(\u001b[0m\u001b[1;34m'i'\u001b[0m\u001b[1;33m)\u001b[0m\u001b[1;33m.\u001b[0m\u001b[0mmax\u001b[0m\u001b[1;33m)\u001b[0m\u001b[1;33m\u001b[0m\u001b[1;33m\u001b[0m\u001b[0m\n\u001b[1;32m--> 217\u001b[1;33m         \u001b[0mfit\u001b[0m\u001b[1;33m(\u001b[0m\u001b[0mX\u001b[0m\u001b[1;33m,\u001b[0m \u001b[0my\u001b[0m\u001b[1;33m,\u001b[0m \u001b[0msample_weight\u001b[0m\u001b[1;33m,\u001b[0m \u001b[0msolver_type\u001b[0m\u001b[1;33m,\u001b[0m \u001b[0mkernel\u001b[0m\u001b[1;33m,\u001b[0m \u001b[0mrandom_seed\u001b[0m\u001b[1;33m=\u001b[0m\u001b[0mseed\u001b[0m\u001b[1;33m)\u001b[0m\u001b[1;33m\u001b[0m\u001b[1;33m\u001b[0m\u001b[0m\n\u001b[0m\u001b[0;32m    218\u001b[0m         \u001b[1;31m# see comment on the other call to np.iinfo in this file\u001b[0m\u001b[1;33m\u001b[0m\u001b[1;33m\u001b[0m\u001b[1;33m\u001b[0m\u001b[0m\n\u001b[0;32m    219\u001b[0m \u001b[1;33m\u001b[0m\u001b[0m\n",
      "\u001b[1;32m~\\anaconda3\\lib\\site-packages\\sklearn\\svm\\_base.py\u001b[0m in \u001b[0;36m_dense_fit\u001b[1;34m(self, X, y, sample_weight, solver_type, kernel, random_seed)\u001b[0m\n\u001b[0;32m    266\u001b[0m         \u001b[0mself\u001b[0m\u001b[1;33m.\u001b[0m\u001b[0msupport_\u001b[0m\u001b[1;33m,\u001b[0m \u001b[0mself\u001b[0m\u001b[1;33m.\u001b[0m\u001b[0msupport_vectors_\u001b[0m\u001b[1;33m,\u001b[0m \u001b[0mself\u001b[0m\u001b[1;33m.\u001b[0m\u001b[0m_n_support\u001b[0m\u001b[1;33m,\u001b[0m\u001b[0;31m \u001b[0m\u001b[0;31m\\\u001b[0m\u001b[1;33m\u001b[0m\u001b[1;33m\u001b[0m\u001b[0m\n\u001b[0;32m    267\u001b[0m             \u001b[0mself\u001b[0m\u001b[1;33m.\u001b[0m\u001b[0mdual_coef_\u001b[0m\u001b[1;33m,\u001b[0m \u001b[0mself\u001b[0m\u001b[1;33m.\u001b[0m\u001b[0mintercept_\u001b[0m\u001b[1;33m,\u001b[0m \u001b[0mself\u001b[0m\u001b[1;33m.\u001b[0m\u001b[0m_probA\u001b[0m\u001b[1;33m,\u001b[0m\u001b[0;31m \u001b[0m\u001b[0;31m\\\u001b[0m\u001b[1;33m\u001b[0m\u001b[1;33m\u001b[0m\u001b[0m\n\u001b[1;32m--> 268\u001b[1;33m             self._probB, self.fit_status_ = libsvm.fit(\n\u001b[0m\u001b[0;32m    269\u001b[0m                 \u001b[0mX\u001b[0m\u001b[1;33m,\u001b[0m \u001b[0my\u001b[0m\u001b[1;33m,\u001b[0m\u001b[1;33m\u001b[0m\u001b[1;33m\u001b[0m\u001b[0m\n\u001b[0;32m    270\u001b[0m                 \u001b[0msvm_type\u001b[0m\u001b[1;33m=\u001b[0m\u001b[0msolver_type\u001b[0m\u001b[1;33m,\u001b[0m \u001b[0msample_weight\u001b[0m\u001b[1;33m=\u001b[0m\u001b[0msample_weight\u001b[0m\u001b[1;33m,\u001b[0m\u001b[1;33m\u001b[0m\u001b[1;33m\u001b[0m\u001b[0m\n",
      "\u001b[1;32msklearn\\svm\\_libsvm.pyx\u001b[0m in \u001b[0;36msklearn.svm._libsvm.fit\u001b[1;34m()\u001b[0m\n",
      "\u001b[1;31mValueError\u001b[0m: 'rbc' is not in list"
     ]
    }
   ],
   "source": [
    "SVM = svm.SVC(kernel=\"linear\")\n",
    "results_SVM = SVM.fit(X_train, y_train)\n",
    "y_pred_SVM = SVM.predict(X_test)\n",
    "print('Train accuracy:', SVM.score(X_train, y_train))\n",
    "print('Test accuracy:', SVM.score(X_test, y_test))\n",
    "print('Precision:{:6.4f}, Recall:{:6.4f}, F1:{:6.4f}' .format(precision_score(y_test, y_pred_SVM), \n",
    "                                                                recall_score(y_test, y_pred_SVM), f1_score(y_test, y_pred_SVM)))"
   ]
  },
  {
   "cell_type": "code",
   "execution_count": 13,
   "metadata": {},
   "outputs": [
    {
     "name": "stdout",
     "output_type": "stream",
     "text": [
      "Train accuracy: 0.7964507305357262\n",
      "Test accuracy: 0.787704280155642\n",
      "Precision:0.6656,   Recall:0.4671, F1:0.5489\n"
     ]
    }
   ],
   "source": [
    "#Gradient Boosting Classifier\n",
    "GB = GradientBoostingClassifier()\n",
    "results_GB = GB.fit(X_train, y_train)\n",
    "y_pred_GB = GB.predict(X_test)\n",
    "print('Train accuracy:', GB.score(X_train, y_train))\n",
    "print('Test accuracy:', GB.score(X_test, y_test))\n",
    "print('Precision:{:6.4f},   Recall:{:6.4f}, F1:{:6.4f}' .format(precision_score(y_test, y_pred_GB), \n",
    "                                                                recall_score(y_test, y_pred_GB), f1_score(y_test, y_pred_GB)))"
   ]
  },
  {
   "cell_type": "code",
   "execution_count": 20,
   "metadata": {},
   "outputs": [
    {
     "data": {
      "image/png": "[encoded data removed]",
      "text/plain": [
       "<Figure size 432x288 with 2 Axes>"
      ]
     },
     "metadata": {
      "needs_background": "light"
     },
     "output_type": "display_data"
    }
   ],
   "source": [
    "#Confusion matrix\n",
    "cm = confusion_matrix(y_test, y_pred_GB)\n",
    "ax= plt.subplot()\n",
    "sns.heatmap(cm, annot=True, ax = ax, linewidths=0.5, cmap = 'Blues_r', fmt='d')\n",
    "ax.set_xlabel('Predicted labels')\n",
    "ax.set_ylabel('True labels')\n",
    "ax.set_title('Confusion Matrix')\n",
    "ax.xaxis.set_ticklabels(['Non-Drunk', 'Drunk'])\n",
    "ax.yaxis.set_ticklabels(['Non-Drunk', 'Drunk']);"
   ]
  },
  {
   "cell_type": "code",
   "execution_count": 14,
   "metadata": {},
   "outputs": [
    {
     "name": "stderr",
     "output_type": "stream",
     "text": [
      "C:\\Users\\EN\\anaconda3\\lib\\site-packages\\sklearn\\model_selection\\_split.py:293: FutureWarning: Setting a random_state has no effect since shuffle is False. This will raise an error in 0.24. You should leave random_state to its default (None), or set shuffle=True.\n",
      "  warnings.warn(\n"
     ]
    },
    {
     "name": "stdout",
     "output_type": "stream",
     "text": [
      "Train accuracy: 1.0\n",
      "Test accuracy: 0.7741634241245137\n",
      "Precision:0.6227,   Recall:0.4654, F1:0.5327\n"
     ]
    }
   ],
   "source": [
    "#Bagging Desicion Tree Classification\n",
    "kfold = model_selection.KFold(n_splits=10, random_state=7)\n",
    "cart = DecisionTreeClassifier()\n",
    "BG = BaggingClassifier(base_estimator=cart, n_estimators=100, random_state=7)\n",
    "results_BG = model_selection.cross_val_score(BG, X_train, y_train, cv=kfold)\n",
    "BG.fit(X_train, y_train)\n",
    "y_pred_BG = BG.predict(X_test)\n",
    "print('Train accuracy:', BG.score(X_train, y_train))\n",
    "print('Test accuracy:', BG.score(X_test, y_test))\n",
    "print('Precision:{:6.4f},   Recall:{:6.4f}, F1:{:6.4f}' .format(precision_score(y_test, y_pred_BG), \n",
    "                                                                recall_score(y_test, y_pred_BG), f1_score(y_test, y_pred_BG)))"
   ]
  },
  {
   "cell_type": "code",
   "execution_count": 15,
   "metadata": {},
   "outputs": [
    {
     "name": "stderr",
     "output_type": "stream",
     "text": [
      "C:\\Users\\EN\\anaconda3\\lib\\site-packages\\sklearn\\model_selection\\_split.py:293: FutureWarning: Setting a random_state has no effect since shuffle is False. This will raise an error in 0.24. You should leave random_state to its default (None), or set shuffle=True.\n",
      "  warnings.warn(\n"
     ]
    },
    {
     "name": "stdout",
     "output_type": "stream",
     "text": [
      "Train accuracy: 0.9999332844085663\n",
      "Test accuracy: 0.7816342412451361\n",
      "Precision:0.6556,   Recall:0.4434, F1:0.5290\n"
     ]
    }
   ],
   "source": [
    "# Random Forest Classification\n",
    "kfold = model_selection.KFold(n_splits=10, random_state=7)\n",
    "RF = RandomForestClassifier(n_estimators=100, max_features=3)\n",
    "results_RF = model_selection.cross_val_score(RF, X_train, y_train, cv=kfold)\n",
    "RF.fit(X_train, y_train)\n",
    "y_pred_RF = RF.predict(X_test)\n",
    "print('Train accuracy:', RF.score(X_train, y_train))\n",
    "print('Test accuracy:', RF.score(X_test, y_test))\n",
    "print('Precision:{:6.4f},   Recall:{:6.4f}, F1:{:6.4f}' .format(precision_score(y_test, y_pred_RF), \n",
    "                                                                recall_score(y_test, y_pred_RF), f1_score(y_test, y_pred_RF)))"
   ]
  },
  {
   "cell_type": "code",
   "execution_count": 16,
   "metadata": {},
   "outputs": [
    {
     "name": "stderr",
     "output_type": "stream",
     "text": [
      "C:\\Users\\EN\\anaconda3\\lib\\site-packages\\sklearn\\model_selection\\_split.py:293: FutureWarning: Setting a random_state has no effect since shuffle is False. This will raise an error in 0.24. You should leave random_state to its default (None), or set shuffle=True.\n",
      "  warnings.warn(\n"
     ]
    },
    {
     "name": "stdout",
     "output_type": "stream",
     "text": [
      "Train accuracy: 1.0\n",
      "Test accuracy: 0.775408560311284\n",
      "Precision:0.6567,   Recall:0.3939, F1:0.4924\n"
     ]
    }
   ],
   "source": [
    "# Extra Trees Classification\n",
    "kfold = model_selection.KFold(n_splits=10, random_state=7)\n",
    "ET = ExtraTreesClassifier(n_estimators=100, max_features=3)\n",
    "results_ET = model_selection.cross_val_score(ET, X_train, y_train, cv=kfold)\n",
    "ET.fit(X_train, y_train)\n",
    "y_pred_ET = ET.predict(X_test)\n",
    "print('Train accuracy:', ET.score(X_train, y_train))\n",
    "print('Test accuracy:', ET.score(X_test, y_test))\n",
    "print('Precision:{:6.4f},   Recall:{:6.4f}, F1:{:6.4f}' .format(precision_score(y_test, y_pred_ET), \n",
    "                                                                recall_score(y_test, y_pred_ET), f1_score(y_test, y_pred_ET)))"
   ]
  },
  {
   "cell_type": "code",
   "execution_count": 17,
   "metadata": {},
   "outputs": [
    {
     "name": "stderr",
     "output_type": "stream",
     "text": [
      "C:\\Users\\EN\\anaconda3\\lib\\site-packages\\sklearn\\model_selection\\_split.py:293: FutureWarning: Setting a random_state has no effect since shuffle is False. This will raise an error in 0.24. You should leave random_state to its default (None), or set shuffle=True.\n",
      "  warnings.warn(\n"
     ]
    },
    {
     "name": "stdout",
     "output_type": "stream",
     "text": [
      "Train accuracy: 0.7860430982720662\n",
      "Test accuracy: 0.7867704280155642\n",
      "Precision:0.6614,   Recall:0.4693, F1:0.5490\n"
     ]
    }
   ],
   "source": [
    "# AdaBoost Classification\n",
    "kfold = model_selection.KFold(n_splits=10, random_state=7)\n",
    "Ada = AdaBoostClassifier(n_estimators=100, random_state=7)\n",
    "results_Ada = model_selection.cross_val_score(Ada, X_train, y_train, cv=kfold)\n",
    "Ada.fit(X_train, y_train)\n",
    "y_pred_Ada = Ada.predict(X_test)\n",
    "print('Train accuracy:', Ada.score(X_train, y_train))\n",
    "print('Test accuracy:', Ada.score(X_test, y_test))\n",
    "print('Precision:{:6.4f},   Recall:{:6.4f}, F1:{:6.4f}' .format(precision_score(y_test, y_pred_Ada), \n",
    "                                                                recall_score(y_test, y_pred_Ada), f1_score(y_test, y_pred_Ada)))"
   ]
  },
  {
   "cell_type": "code",
   "execution_count": 25,
   "metadata": {},
   "outputs": [
    {
     "data": {
      "image/png": "[encoded data removed]",
      "text/plain": [
       "<Figure size 432x288 with 2 Axes>"
      ]
     },
     "metadata": {
      "needs_background": "light"
     },
     "output_type": "display_data"
    }
   ],
   "source": [
    "#Confusion matrix\n",
    "cm = confusion_matrix(y_test, y_pred_Ada)\n",
    "ax= plt.subplot()\n",
    "sns.heatmap(cm, annot=True, ax = ax, linewidths=0.5, cmap = 'Blues_r', fmt='d')\n",
    "ax.set_xlabel('Predicted labels')\n",
    "ax.set_ylabel('True labels')\n",
    "ax.set_title('Confusion Matrix')\n",
    "ax.xaxis.set_ticklabels(['Non-Drunk', 'Drunk'])\n",
    "ax.yaxis.set_ticklabels(['Non-Drunk', 'Drunk']);"
   ]
  },
  {
   "cell_type": "code",
   "execution_count": 26,
   "metadata": {},
   "outputs": [
    {
     "name": "stderr",
     "output_type": "stream",
     "text": [
      "C:\\Users\\EN\\anaconda3\\lib\\site-packages\\sklearn\\model_selection\\_split.py:293: FutureWarning: Setting a random_state has no effect since shuffle is False. This will raise an error in 0.24. You should leave random_state to its default (None), or set shuffle=True.\n",
      "  warnings.warn(\n"
     ]
    },
    {
     "name": "stdout",
     "output_type": "stream",
     "text": [
      "Train accuracy: 0.7964507305357262\n",
      "Test accuracy: 0.787704280155642\n",
      "Precision:0.6656,   Recall:0.4671, F1:0.5489\n"
     ]
    }
   ],
   "source": [
    "#Stochastic Gradient Boosting\n",
    "kfold = model_selection.KFold(n_splits=10, random_state=7)\n",
    "SGB = GradientBoostingClassifier(n_estimators=100, random_state=7)\n",
    "results_SGB = model_selection.cross_val_score(SGB, X_train, y_train, cv=kfold)\n",
    "SGB.fit(X_train, y_train)\n",
    "y_pred_SGB = SGB.predict(X_test)\n",
    "print('Train accuracy:', SGB.score(X_train, y_train))\n",
    "print('Test accuracy:', SGB.score(X_test, y_test))\n",
    "print('Precision:{:6.4f},   Recall:{:6.4f}, F1:{:6.4f}' .format(precision_score(y_test, y_pred_SGB), \n",
    "                                                                recall_score(y_test, y_pred_SGB), f1_score(y_test, y_pred_SGB)))"
   ]
  },
  {
   "cell_type": "code",
   "execution_count": 27,
   "metadata": {},
   "outputs": [
    {
     "name": "stderr",
     "output_type": "stream",
     "text": [
      "C:\\Users\\EN\\anaconda3\\lib\\site-packages\\sklearn\\model_selection\\_split.py:293: FutureWarning: Setting a random_state has no effect since shuffle is False. This will raise an error in 0.24. You should leave random_state to its default (None), or set shuffle=True.\n",
      "  warnings.warn(\n"
     ]
    },
    {
     "name": "stdout",
     "output_type": "stream",
     "text": [
      "Train accuracy: 1.0\n",
      "Test accuracy: 0.6989883268482491\n",
      "Precision:0.4574,   Recall:0.4744, F1:0.4657\n"
     ]
    }
   ],
   "source": [
    "# Voting Ensemble for Classification\n",
    "estimators = []\n",
    "model2 = DecisionTreeClassifier()\n",
    "estimators.append(('cart', model2))\n",
    "kfold = model_selection.KFold(n_splits=10, random_state=7)\n",
    "VC = VotingClassifier(estimators)\n",
    "results_VC = model_selection.cross_val_score(VC, X_train, y_train, cv=kfold)\n",
    "VC.fit(X_train, y_train)\n",
    "y_pred_VC = VC.predict(X_test)\n",
    "print('Train accuracy:', VC.score(X_train, y_train))\n",
    "print('Test accuracy:', VC.score(X_test, y_test))\n",
    "print('Precision:{:6.4f},   Recall:{:6.4f}, F1:{:6.4f}' .format(precision_score(y_test, y_pred_VC), \n",
    "                                                                recall_score(y_test, y_pred_VC), f1_score(y_test, y_pred_VC)))"
   ]
  },
  {
   "cell_type": "code",
   "execution_count": 18,
   "metadata": {},
   "outputs": [
    {
     "name": "stdout",
     "output_type": "stream",
     "text": [
      "Train accuracy: 0.790112749349523\n",
      "Test accuracy: 0.778988326848249\n",
      "Precision:0.6445,   Recall:0.4479, F1:0.5286\n"
     ]
    }
   ],
   "source": [
    "XGB=xgb.XGBClassifier(random_state=7,learning_rate=0.01)\n",
    "XGB.fit(X_train, y_train)\n",
    "XGB.fit(X_train, y_train)\n",
    "y_pred_XGB = XGB.predict(X_test)\n",
    "print('Train accuracy:', XGB.score(X_train, y_train))\n",
    "print('Test accuracy:', XGB.score(X_test, y_test))\n",
    "print('Precision:{:6.4f},   Recall:{:6.4f}, F1:{:6.4f}' .format(precision_score(y_test, y_pred_XGB), \n",
    "                                                                recall_score(y_test, y_pred_XGB), f1_score(y_test, y_pred_XGB)))"
   ]
  },
  {
   "cell_type": "code",
   "execution_count": 19,
   "metadata": {},
   "outputs": [
    {
     "data": {
      "image/png": "[encoded data removed]",
      "text/plain": [
       "<Figure size 432x288 with 1 Axes>"
      ]
     },
     "metadata": {
      "needs_background": "light"
     },
     "output_type": "display_data"
    }
   ],
   "source": [
    "classifiers = [LR, GB, BG, RF, ET, Ada, XGB]\n",
    "ax = plt.gca()\n",
    "for i in classifiers:\n",
    "    plot_roc_curve(i, X_test, y_test, ax=ax)"
   ]
  },
  {
   "cell_type": "code",
   "execution_count": 22,
   "metadata": {},
   "outputs": [],
   "source": [
    "data = [['LR', LR.score(X_test, y_test), f1_score(y_test, y_pred) ],['GB',GB.score(X_test, y_test), f1_score(y_test, y_pred_GB)],\n",
    "        ['BG',BG.score(X_test, y_test), f1_score(y_test, y_pred_BG)], \n",
    "        ['RF', RF.score(X_test, y_test), f1_score(y_test, y_pred_RF)],['ET' ,ET.score(X_test, y_test), f1_score(y_test, y_pred_ET)], \n",
    "        ['Ada', Ada.score(X_test, y_test), f1_score(y_test, y_pred_Ada)],['XGB', XGB.score(X_test, y_test), f1_score(y_test, y_pred_XGB)]] \n",
    "  \n",
    "# Create the pandas DataFrame \n",
    "df = pd.DataFrame(data, columns = ['Model', 'Test_Accuracy', 'F1']) "
   ]
  },
  {
   "cell_type": "code",
   "execution_count": 23,
   "metadata": {},
   "outputs": [
    {
     "data": {
      "text/plain": [
       "<matplotlib.legend.Legend at 0x28b6dcfb1f0>"
      ]
     },
     "execution_count": 23,
     "metadata": {},
     "output_type": "execute_result"
    },
    {
     "data": {
      "image/png": "[encoded data removed]",
      "text/plain": [
       "<Figure size 432x288 with 1 Axes>"
      ]
     },
     "metadata": {
      "needs_background": "light"
     },
     "output_type": "display_data"
    }
   ],
   "source": [
    "plt.plot( 'Model', 'Test_Accuracy', data=df, marker='', color='blue', linewidth=2)\n",
    "plt.plot( 'Model', 'F1', data=df, marker='', color='red', linewidth=2, linestyle='dashed', label=\"F1\")\n",
    "plt.legend()"
   ]
  },
  {
   "cell_type": "code",
   "execution_count": null,
   "metadata": {},
   "outputs": [],
   "source": []
  }
 ],
 "metadata": {
  "kernelspec": {
   "display_name": "Python 3",
   "language": "python",
   "name": "python3"
  },
  "language_info": {
   "codemirror_mode": {
    "name": "ipython",
    "version": 3
   },
   "file_extension": ".py",
   "mimetype": "text/x-python",
   "name": "python",
   "nbconvert_exporter": "python",
   "pygments_lexer": "ipython3",
   "version": "3.8.3"
  }
 },
 "nbformat": 4,
 "nbformat_minor": 4
}
